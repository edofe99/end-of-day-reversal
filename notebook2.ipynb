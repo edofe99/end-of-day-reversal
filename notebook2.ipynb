{
 "cells": [
  {
   "cell_type": "markdown",
   "id": "551cb3a7",
   "metadata": {},
   "source": [
    "# End of Day Reversal - Testing Variations\n",
    "\n",
    "Reiteration of the backtest using a different perspective:\n",
    "- Trade directly on SPY. \n",
    "- Each day at 15:30 we retrieve the list of ROD3 over the last 30 days.\n",
    "- If today ROD3 is below the 10% worst percentile, then we buy.\n",
    "- We still assume we can close our position at 15:59:59. If results OOS are decent, then we can stress-test under real life constraints."
   ]
  },
  {
   "cell_type": "code",
   "execution_count": null,
   "id": "ed0a170a",
   "metadata": {},
   "outputs": [],
   "source": [
    "import pandas as pd\n",
    "import numpy as np\n",
    "from itertools import product\n",
    "import matplotlib.pyplot as plt\n",
    "plt.style.use(\"dark_background\")\n",
    "from backtesting import Backtest, Strategy\n",
    "from tqdm import tqdm\n",
    "from concurrent.futures import ProcessPoolExecutor, as_completed\n",
    "import os"
   ]
  },
  {
   "cell_type": "code",
   "execution_count": 2,
   "id": "272922bb",
   "metadata": {},
   "outputs": [],
   "source": [
    "main_df = pd.read_csv('SPY 2017-10-18_5325-02-25 30m.csv')\n",
    "main_df.set_index('Datetime', inplace=True)\n",
    "main_df.index = pd.to_datetime(main_df.index)   \n",
    "\n",
    "def get_last_rod3(df, observations = None):\n",
    "    '''\n",
    "    - df\n",
    "    - observatiions : how many days of ROD3 to retrieve. Set to None to get all\n",
    "    '''\n",
    "    # Build a single aligned DataFrame and drop days missing either value\n",
    "    yesterday_close = df['Close'].at_time('16:00').shift(1)\n",
    "    close_minus_60 =  df['Close'].at_time('15:00')\n",
    "    # Here timestamps refers to candle close\n",
    "    if len(yesterday_close) != len(close_minus_60):\n",
    "        #print(f\"🔴 {len(yesterday_close)} prices of yesterday at 15:59 (market close).\")\n",
    "        #print(f\"🔴 {len(close_minus_60)} prices at 14:59.\")\n",
    "\n",
    "        # Store a list of all the dates where we have both yesterday close and price at 15:00\n",
    "        common_dates = yesterday_close.index.normalize().intersection(close_minus_60.index.normalize())\n",
    "        yesterday_close = yesterday_close[yesterday_close.index.normalize().isin(common_dates)]\n",
    "        close_minus_60 = close_minus_60[close_minus_60.index.normalize().isin(common_dates)]\n",
    "\n",
    "    rod3 = (( close_minus_60  / yesterday_close.values ) - 1).rename('ROD3')\n",
    "    if observations is None:\n",
    "        return rod3\n",
    "    else:\n",
    "        return rod3.tail(observations)\n",
    "\n",
    "main_df['ROD3'] = get_last_rod3(main_df)\n"
   ]
  },
  {
   "cell_type": "code",
   "execution_count": 4,
   "id": "0d440078",
   "metadata": {},
   "outputs": [
    {
     "name": "stderr",
     "output_type": "stream",
     "text": [
      "                                                        "
     ]
    },
    {
     "name": "stdout",
     "output_type": "stream",
     "text": [
      "Start                     2017-10-18 15:30:00\n",
      "End                       2023-12-29 16:00:00\n",
      "Duration                   2263 days 00:30:00\n",
      "Exposure Time [%]                     2.34028\n",
      "Equity Final [$]                      9264.73\n",
      "Equity Peak [$]                      10072.06\n",
      "Return [%]                            -7.3527\n",
      "Buy & Hold Return [%]                85.76732\n",
      "Return (Ann.) [%]                     -1.2261\n",
      "Volatility (Ann.) [%]                 2.43068\n",
      "CAGR [%]                             -0.84682\n",
      "Sharpe Ratio                         -0.50442\n",
      "Sortino Ratio                        -0.65081\n",
      "Calmar Ratio                         -0.15296\n",
      "Alpha [%]                            -8.79871\n",
      "Beta                                  0.01686\n",
      "Max. Drawdown [%]                    -8.01554\n",
      "Avg. Drawdown [%]                    -4.05909\n",
      "Max. Drawdown Duration     2173 days 00:30:00\n",
      "Avg. Drawdown Duration     1097 days 12:30:00\n",
      "# Trades                                  158\n",
      "Win Rate [%]                         51.26582\n",
      "Best Trade [%]                        2.21695\n",
      "Worst Trade [%]                      -1.86016\n",
      "Avg. Trade [%]                       -0.04917\n",
      "Max. Trade Duration           0 days 01:00:00\n",
      "Avg. Trade Duration           0 days 01:00:00\n",
      "Profit Factor                         0.73831\n",
      "Expectancy [%]                       -0.04795\n",
      "SQN                                  -1.22736\n",
      "Kelly Criterion                      -0.18365\n",
      "_strategy                    EndOfDayReversal\n",
      "_equity_curve                             ...\n",
      "_trades                        Size  Entry...\n",
      "dtype: object\n"
     ]
    },
    {
     "name": "stderr",
     "output_type": "stream",
     "text": [
      "\r"
     ]
    },
    {
     "data": {
      "image/png": "[encoded data removed]",
      "text/plain": [
       "<Figure size 1200x600 with 1 Axes>"
      ]
     },
     "metadata": {},
     "output_type": "display_data"
    }
   ],
   "source": [
    "# Cutting out data\n",
    "df = main_df[main_df.index.year < 2024].copy()\n",
    "LOG_FILENAME = 'backtest#1_log.txt'\n",
    "\n",
    "def log(text : str, console = False):\n",
    "    if not console:\n",
    "        with open(LOG_FILENAME, \"a\") as f:\n",
    "            f.write(text+'\\n')\n",
    "    else:\n",
    "        print(text)\n",
    "        \n",
    "\n",
    "class EndOfDayReversal(Strategy):\n",
    "\n",
    "    ROD3_SAMPLE_SIZE = 10\n",
    "    PCT = 0.1\n",
    "\n",
    "    def init(self):\n",
    "        log('=='*50+f'\\n🏁 BACKTEST STARTED\\nROD3_PERIOD={self.ROD3_SAMPLE_SIZE}, PCT={self.PCT}.\\n')\n",
    "\n",
    "    def next(self):\n",
    "        \n",
    "        today_date = self.data.index[-1]\n",
    "        buy_time = today_date.strftime('%H:%M') == '15:00'\n",
    "        close_time = today_date.strftime('%H:%M') == '16:00'\n",
    "        \n",
    "        # If it's time to buy (i.e. we have the ROD3 for the day)\n",
    "        if buy_time:\n",
    "            rod3_values = self.data.df.ROD3.dropna().copy().tail(self.ROD3_SAMPLE_SIZE)\n",
    "            \n",
    "            # If the amount of ROD3 observation is enough for the input\n",
    "            if len(rod3_values) >= self.ROD3_SAMPLE_SIZE:\n",
    "                # Check existence\n",
    "                if today_date not in rod3_values.index:\n",
    "                    print(f'[{today_date}] ERROR: No ROD3 entry.')\n",
    "                \n",
    "                rod3_values = rod3_values.to_frame('ROD3')\n",
    "                rod3_values['rank'] = rod3_values['ROD3'].rank(pct=True)\n",
    "                today_rod3 = rod3_values.loc[today_date] \n",
    "                \n",
    "                log(f'➡️ [{today_date}] ROD3={today_rod3['ROD3']} | PCT={today_rod3['rank']}.')\n",
    "\n",
    "                if today_rod3['rank'] <= self.PCT:\n",
    "                    self.buy()\n",
    "                    log('\\t🟢Trade opened.')\n",
    "\n",
    "        if self.position and close_time:\n",
    "            self.position.close()\n",
    "\n",
    "# Assuming we can open and close trades using Close price of OHLC data.\n",
    "# Done for the sake of simplicity.\n",
    "bt = Backtest(df, EndOfDayReversal, trade_on_close=True)\n",
    "stats = bt.run()\n",
    "\n",
    "print(stats)\n",
    "title=f'[{df.index[0].date()} - {df.index[-1].date()}] ROD3_SAMPLE_SIZE={stats._strategy.ROD3_SAMPLE_SIZE}, PCT={stats._strategy.PCT}  '\n",
    "stats._equity_curve['Equity'].plot(figsize=(12, 6), title=title)\n",
    "plt.show()"
   ]
  },
  {
   "cell_type": "markdown",
   "id": "c64e6f18",
   "metadata": {},
   "source": [
    "## Optimization\n",
    "\n",
    "We try to optimize the In-Sample backtest in order to see if there is a certain combination of parameters that yeld better results. If so, we'll validate it with the Out-Of-Sample dataset."
   ]
  },
  {
   "cell_type": "code",
   "execution_count": 5,
   "id": "8b74297c",
   "metadata": {},
   "outputs": [
    {
     "name": "stderr",
     "output_type": "stream",
     "text": [
      "Backtesting: 100%|██████████| 475/475 [00:52<00:00,  9.09backtest/s]\n"
     ]
    },
    {
     "data": {
      "application/vnd.microsoft.datawrangler.viewer.v0+json": {
       "columns": [
        {
         "name": "index",
         "rawType": "int64",
         "type": "integer"
        },
        {
         "name": "ROD3_SAMPLE_SIZE",
         "rawType": "int64",
         "type": "integer"
        },
        {
         "name": "PCT",
         "rawType": "float64",
         "type": "float"
        },
        {
         "name": "Equity Final [$]",
         "rawType": "float64",
         "type": "float"
        },
        {
         "name": "Winrate",
         "rawType": "float64",
         "type": "float"
        },
        {
         "name": "Average Trade",
         "rawType": "float64",
         "type": "float"
        },
        {
         "name": "#Trades",
         "rawType": "int64",
         "type": "integer"
        }
       ],
       "ref": "2a010fad-1e7c-480a-b8c9-50ca1a0baa5f",
       "rows": [
        [
         "230",
         "130",
         "0.15000000000000002",
         "9956.44",
         "50.0",
         "-0.21",
         "210"
        ],
        [
         "191",
         "110",
         "0.2",
         "9916.88",
         "49.83",
         "-0.28",
         "293"
        ],
        [
         "212",
         "120",
         "0.2",
         "9798.17",
         "49.83",
         "-0.69",
         "291"
        ],
        [
         "211",
         "120",
         "0.15000000000000002",
         "9846.38",
         "50.47",
         "-0.72",
         "214"
        ],
        [
         "232",
         "130",
         "0.2",
         "9794.1",
         "48.94",
         "-0.73",
         "282"
        ],
        [
         "249",
         "140",
         "0.2",
         "9791.91",
         "48.93",
         "-0.74",
         "280"
        ],
        [
         "269",
         "150",
         "0.2",
         "9775.6",
         "48.75",
         "-0.8",
         "281"
        ],
        [
         "248",
         "140",
         "0.15000000000000002",
         "9808.5",
         "49.05",
         "-0.91",
         "210"
        ],
        [
         "288",
         "160",
         "0.2",
         "9696.15",
         "49.3",
         "-1.06",
         "286"
        ],
        [
         "285",
         "160",
         "0.15000000000000002",
         "9765.97",
         "49.03",
         "-1.14",
         "206"
        ],
        [
         "262",
         "140",
         "0.9500000000000001",
         "8431.66",
         "49.33",
         "-1.16",
         "1352"
        ],
        [
         "306",
         "170",
         "0.15000000000000002",
         "9764.05",
         "49.5",
         "-1.17",
         "202"
        ],
        [
         "193",
         "110",
         "0.15000000000000002",
         "9740.05",
         "51.44",
         "-1.25",
         "208"
        ],
        [
         "209",
         "110",
         "0.9500000000000001",
         "8254.39",
         "49.42",
         "-1.27",
         "1370"
        ],
        [
         "456",
         "250",
         "0.15000000000000002",
         "9755.24",
         "48.69",
         "-1.28",
         "191"
        ],
        [
         "460",
         "250",
         "0.2",
         "9656.04",
         "51.14",
         "-1.3",
         "264"
        ],
        [
         "346",
         "190",
         "0.2",
         "9641.53",
         "50.55",
         "-1.32",
         "271"
        ],
        [
         "307",
         "170",
         "0.2",
         "9631.79",
         "49.46",
         "-1.32",
         "279"
        ],
        [
         "169",
         "90",
         "0.9500000000000001",
         "8156.81",
         "49.42",
         "-1.33",
         "1384"
        ],
        [
         "208",
         "110",
         "0.9000000000000001",
         "8259.51",
         "49.46",
         "-1.34",
         "1302"
        ],
        [
         "268",
         "150",
         "0.15000000000000002",
         "9722.28",
         "48.29",
         "-1.35",
         "205"
        ],
        [
         "246",
         "130",
         "0.9500000000000001",
         "8177.72",
         "49.34",
         "-1.35",
         "1354"
        ],
        [
         "153",
         "80",
         "0.9500000000000001",
         "8086.39",
         "49.25",
         "-1.37",
         "1401"
        ],
        [
         "39",
         "20",
         "0.9500000000000001",
         "7969.53",
         "49.21",
         "-1.39",
         "1459"
        ],
        [
         "188",
         "100",
         "0.9500000000000001",
         "8061.23",
         "49.17",
         "-1.4",
         "1385"
        ],
        [
         "227",
         "120",
         "0.9000000000000001",
         "8137.51",
         "49.38",
         "-1.43",
         "1298"
        ],
        [
         "419",
         "230",
         "0.15000000000000002",
         "9721.66",
         "48.72",
         "-1.43",
         "195"
        ],
        [
         "171",
         "90",
         "0.9000000000000001",
         "8109.91",
         "49.36",
         "-1.43",
         "1319"
        ],
        [
         "440",
         "240",
         "0.2",
         "9616.9",
         "51.31",
         "-1.43",
         "267"
        ],
        [
         "287",
         "150",
         "0.9500000000000001",
         "8086.15",
         "49.33",
         "-1.43",
         "1336"
        ],
        [
         "189",
         "100",
         "0.9000000000000001",
         "8099.83",
         "49.2",
         "-1.45",
         "1309"
        ],
        [
         "228",
         "120",
         "0.9500000000000001",
         "7998.18",
         "49.13",
         "-1.46",
         "1372"
        ],
        [
         "244",
         "130",
         "0.9000000000000001",
         "8068.2",
         "49.42",
         "-1.49",
         "1295"
        ],
        [
         "340",
         "180",
         "0.9000000000000001",
         "8138.75",
         "49.48",
         "-1.49",
         "1247"
        ],
        [
         "458",
         "250",
         "0.1",
         "9806.62",
         "45.38",
         "-1.49",
         "130"
        ],
        [
         "321",
         "170",
         "0.9000000000000001",
         "8104.61",
         "49.48",
         "-1.51",
         "1257"
        ],
        [
         "301",
         "160",
         "0.9000000000000001",
         "8083.34",
         "49.41",
         "-1.52",
         "1265"
        ],
        [
         "326",
         "180",
         "0.2",
         "9577.86",
         "49.64",
         "-1.54",
         "274"
        ],
        [
         "96",
         "50",
         "0.9500000000000001",
         "7810.5",
         "49.18",
         "-1.55",
         "1409"
        ],
        [
         "473",
         "250",
         "0.9000000000000001",
         "8179.29",
         "50.13",
         "-1.56",
         "1167"
        ],
        [
         "78",
         "40",
         "0.9500000000000001",
         "7743.55",
         "49.3",
         "-1.57",
         "1436"
        ],
        [
         "264",
         "140",
         "0.9000000000000001",
         "7980.48",
         "49.26",
         "-1.57",
         "1283"
        ],
        [
         "194",
         "110",
         "0.25",
         "9456.22",
         "49.42",
         "-1.57",
         "346"
        ],
        [
         "360",
         "190",
         "0.9000000000000001",
         "8050.82",
         "49.39",
         "-1.58",
         "1237"
        ],
        [
         "117",
         "60",
         "0.9500000000000001",
         "7757.77",
         "49.19",
         "-1.59",
         "1413"
        ],
        [
         "131",
         "70",
         "0.9500000000000001",
         "7763.71",
         "49.03",
         "-1.6",
         "1397"
        ],
        [
         "95",
         "50",
         "0.9000000000000001",
         "7819.84",
         "49.45",
         "-1.6",
         "1361"
        ],
        [
         "377",
         "200",
         "0.9000000000000001",
         "8026.91",
         "49.55",
         "-1.61",
         "1223"
        ],
        [
         "155",
         "90",
         "0.2",
         "9514.63",
         "49.0",
         "-1.62",
         "300"
        ],
        [
         "225",
         "120",
         "0.8500000000000001",
         "8012.65",
         "49.55",
         "-1.62",
         "1223"
        ]
       ],
       "shape": {
        "columns": 6,
        "rows": 475
       }
      },
      "text/html": [
       "<div>\n",
       "<style scoped>\n",
       "    .dataframe tbody tr th:only-of-type {\n",
       "        vertical-align: middle;\n",
       "    }\n",
       "\n",
       "    .dataframe tbody tr th {\n",
       "        vertical-align: top;\n",
       "    }\n",
       "\n",
       "    .dataframe thead th {\n",
       "        text-align: right;\n",
       "    }\n",
       "</style>\n",
       "<table border=\"1\" class=\"dataframe\">\n",
       "  <thead>\n",
       "    <tr style=\"text-align: right;\">\n",
       "      <th></th>\n",
       "      <th>ROD3_SAMPLE_SIZE</th>\n",
       "      <th>PCT</th>\n",
       "      <th>Equity Final [$]</th>\n",
       "      <th>Winrate</th>\n",
       "      <th>Average Trade</th>\n",
       "      <th>#Trades</th>\n",
       "    </tr>\n",
       "  </thead>\n",
       "  <tbody>\n",
       "    <tr>\n",
       "      <th>230</th>\n",
       "      <td>130</td>\n",
       "      <td>0.15</td>\n",
       "      <td>9956.44</td>\n",
       "      <td>50.00</td>\n",
       "      <td>-0.21</td>\n",
       "      <td>210</td>\n",
       "    </tr>\n",
       "    <tr>\n",
       "      <th>191</th>\n",
       "      <td>110</td>\n",
       "      <td>0.20</td>\n",
       "      <td>9916.88</td>\n",
       "      <td>49.83</td>\n",
       "      <td>-0.28</td>\n",
       "      <td>293</td>\n",
       "    </tr>\n",
       "    <tr>\n",
       "      <th>212</th>\n",
       "      <td>120</td>\n",
       "      <td>0.20</td>\n",
       "      <td>9798.17</td>\n",
       "      <td>49.83</td>\n",
       "      <td>-0.69</td>\n",
       "      <td>291</td>\n",
       "    </tr>\n",
       "    <tr>\n",
       "      <th>211</th>\n",
       "      <td>120</td>\n",
       "      <td>0.15</td>\n",
       "      <td>9846.38</td>\n",
       "      <td>50.47</td>\n",
       "      <td>-0.72</td>\n",
       "      <td>214</td>\n",
       "    </tr>\n",
       "    <tr>\n",
       "      <th>232</th>\n",
       "      <td>130</td>\n",
       "      <td>0.20</td>\n",
       "      <td>9794.10</td>\n",
       "      <td>48.94</td>\n",
       "      <td>-0.73</td>\n",
       "      <td>282</td>\n",
       "    </tr>\n",
       "    <tr>\n",
       "      <th>...</th>\n",
       "      <td>...</td>\n",
       "      <td>...</td>\n",
       "      <td>...</td>\n",
       "      <td>...</td>\n",
       "      <td>...</td>\n",
       "      <td>...</td>\n",
       "    </tr>\n",
       "    <tr>\n",
       "      <th>94</th>\n",
       "      <td>60</td>\n",
       "      <td>0.05</td>\n",
       "      <td>8995.81</td>\n",
       "      <td>43.42</td>\n",
       "      <td>-13.21</td>\n",
       "      <td>76</td>\n",
       "    </tr>\n",
       "    <tr>\n",
       "      <th>247</th>\n",
       "      <td>140</td>\n",
       "      <td>0.05</td>\n",
       "      <td>8947.00</td>\n",
       "      <td>35.14</td>\n",
       "      <td>-14.23</td>\n",
       "      <td>74</td>\n",
       "    </tr>\n",
       "    <tr>\n",
       "      <th>113</th>\n",
       "      <td>70</td>\n",
       "      <td>0.05</td>\n",
       "      <td>8971.52</td>\n",
       "      <td>42.65</td>\n",
       "      <td>-15.12</td>\n",
       "      <td>68</td>\n",
       "    </tr>\n",
       "    <tr>\n",
       "      <th>70</th>\n",
       "      <td>50</td>\n",
       "      <td>0.05</td>\n",
       "      <td>8883.54</td>\n",
       "      <td>40.30</td>\n",
       "      <td>-16.66</td>\n",
       "      <td>67</td>\n",
       "    </tr>\n",
       "    <tr>\n",
       "      <th>2</th>\n",
       "      <td>10</td>\n",
       "      <td>0.05</td>\n",
       "      <td>10000.00</td>\n",
       "      <td>NaN</td>\n",
       "      <td>NaN</td>\n",
       "      <td>0</td>\n",
       "    </tr>\n",
       "  </tbody>\n",
       "</table>\n",
       "<p>475 rows × 6 columns</p>\n",
       "</div>"
      ],
      "text/plain": [
       "     ROD3_SAMPLE_SIZE   PCT  Equity Final [$]  Winrate  Average Trade  #Trades\n",
       "230               130  0.15           9956.44    50.00          -0.21      210\n",
       "191               110  0.20           9916.88    49.83          -0.28      293\n",
       "212               120  0.20           9798.17    49.83          -0.69      291\n",
       "211               120  0.15           9846.38    50.47          -0.72      214\n",
       "232               130  0.20           9794.10    48.94          -0.73      282\n",
       "..                ...   ...               ...      ...            ...      ...\n",
       "94                 60  0.05           8995.81    43.42         -13.21       76\n",
       "247               140  0.05           8947.00    35.14         -14.23       74\n",
       "113                70  0.05           8971.52    42.65         -15.12       68\n",
       "70                 50  0.05           8883.54    40.30         -16.66       67\n",
       "2                  10  0.05          10000.00      NaN            NaN        0\n",
       "\n",
       "[475 rows x 6 columns]"
      ]
     },
     "metadata": {},
     "output_type": "display_data"
    }
   ],
   "source": [
    "df = main_df[main_df.index.year < 2024].copy()\n",
    "params_list = list(product(range(10, 252, 10), np.arange(0.05, 1.0, 0.05)))\n",
    "\n",
    "bt = Backtest(\n",
    "    data=df,\n",
    "    strategy=EndOfDayReversal,\n",
    "    cash=10_000,\n",
    "    finalize_trades=True,\n",
    "    trade_on_close=True\n",
    ")\n",
    "\n",
    "# Multi-thread approach\n",
    "def do_backtest(args):\n",
    "    rod3_sample_size, pct = args\n",
    "    stats = bt.run(ROD3_SAMPLE_SIZE=rod3_sample_size, PCT=pct)\n",
    "    avg_trade = stats._trades.PnL.mean()\n",
    "    return {\n",
    "        \"ROD3_SAMPLE_SIZE\": rod3_sample_size,\n",
    "        \"PCT\": pct,\n",
    "        \"Equity Final [$]\": round(stats[\"Equity Final [$]\"], 2),\n",
    "        \"Winrate\": round(stats[\"Win Rate [%]\"], 2),\n",
    "        \"Average Trade\": round(avg_trade, 2),\n",
    "        '#Trades' : len(stats._trades),\n",
    "    }\n",
    "\n",
    "rows = []\n",
    "# use all available cores/threads, leaving 2 free\n",
    "cores_to_use = os.cpu_count()-2\n",
    "with ProcessPoolExecutor(max_workers=cores_to_use) as executor:\n",
    "    # create a list of actions (i.e. functions to execute) to do in a multi-threaded fashion\n",
    "    futures = [executor.submit(do_backtest, args) for args in params_list]\n",
    "    for fut in tqdm(as_completed(futures), total=len(futures), desc=\"Backtesting\", unit='backtest'):\n",
    "        rows.append(fut.result())\n",
    "\n",
    "display(pd.DataFrame(rows).sort_values(by='Average Trade', ascending=False))"
   ]
  },
  {
   "cell_type": "markdown",
   "id": "e6c79e0c",
   "metadata": {},
   "source": [
    "All backtests have a negative result. Let's try two different tests with the same percentile approach:\n",
    "\n",
    "1. we sell when the day has been too good.\n",
    "2. we sell when the day has been too bad.\n",
    "3. we buy when the day has been too good.\n",
    "\n",
    "## Backtest second logic"
   ]
  },
  {
   "cell_type": "code",
   "execution_count": 6,
   "id": "a14fdee2",
   "metadata": {},
   "outputs": [],
   "source": [
    "# Cutting out data\n",
    "df = main_df[main_df.index.year < 2024].copy()\n",
    "LOG_FILENAME = 'backtest#1_log.txt'\n",
    "\n",
    "def log(text : str, console = False):\n",
    "    if not console:\n",
    "        with open(LOG_FILENAME, \"a\") as f:\n",
    "            f.write(text+'\\n')\n",
    "    else:\n",
    "        print(text)\n",
    "        \n",
    "\n",
    "class EndOfDayReversal_v2(Strategy):\n",
    "\n",
    "    ROD3_SAMPLE_SIZE = 10\n",
    "    PCT = 0.1\n",
    "    SIDE = 'buy' # or 'sell'\n",
    "    PICK = 'worst' # or 'best'\n",
    "\n",
    "    def init(self):\n",
    "        assert self.SIDE in ['buy','sell'], 'SIDE parameter must be either \"buy\" or \"sell\"'\n",
    "        assert self.PICK in ['worst', 'best'], 'PICK parameter must be either \"worst\" or \"best\"'\n",
    "        assert self.PCT <= 1 and self.PCT > 0 , 'PCT must be in (0,1]'\n",
    "        # log('=='*50+f'\\n🏁 BACKTEST STARTED\\nROD3_PERIOD={self.ROD3_SAMPLE_SIZE}, PCT={self.PCT}.\\n')\n",
    "\n",
    "    def next(self):\n",
    "        \n",
    "        today_date = self.data.index[-1]\n",
    "        trade_time = today_date.strftime('%H:%M') == '15:00'\n",
    "        close_time = today_date.strftime('%H:%M') == '16:00'\n",
    "        \n",
    "        # If it's time to buy (i.e. we have the ROD3 for the day)\n",
    "        if trade_time:\n",
    "            rod3_values = self.data.df.ROD3.dropna().copy().tail(self.ROD3_SAMPLE_SIZE)\n",
    "            \n",
    "            # If the amount of ROD3 observation is enough for the input\n",
    "            if len(rod3_values) >= self.ROD3_SAMPLE_SIZE:\n",
    "                # Check existence\n",
    "                if today_date not in rod3_values.index:\n",
    "                    print(f'[{today_date}] ERROR: No ROD3 entry.')\n",
    "                \n",
    "                rod3_values = rod3_values.to_frame('ROD3')\n",
    "                rod3_values['rank'] = rod3_values['ROD3'].rank(pct=True)\n",
    "                today_rod3 = rod3_values.loc[today_date] \n",
    "                \n",
    "                log(f'➡️ [{today_date}] ROD3={today_rod3['ROD3']} | PCT={today_rod3['rank']}.')\n",
    "\n",
    "                rod3_leq_pct = today_rod3['rank'] <= self.PCT\n",
    "                rod3_geq_pct = today_rod3['rank'] >= self.PCT\n",
    "\n",
    "                # If PICK = 'worst' then we buy if ROD3 is below the PCT\n",
    "                # If PICK = 'best' then we buy if ROD3 is above the PCT\n",
    "                trade_open =  rod3_leq_pct if self.PICK == 'worst' else rod3_geq_pct\n",
    "                # If the strategy consist in buying\n",
    "                if self.SIDE == 'buy' and trade_open:\n",
    "                    self.buy()\n",
    "                    # log('\\t🟢Trade opened.')\n",
    "\n",
    "                # If the strategy consist in selling\n",
    "                elif self.SIDE == 'sell' and trade_open:\n",
    "                    self.sell()\n",
    "                    # log('\\t🟢Trade opened.')\n",
    "\n",
    "        if self.position and close_time:\n",
    "            self.position.close()"
   ]
  },
  {
   "cell_type": "markdown",
   "id": "e0e3095f",
   "metadata": {},
   "source": [
    "### Optimization 1: sell when day has been too good\n",
    "\n",
    "- We will optimize `ROD3_SAMPLE_SIZE` and `PCT`\n",
    "- We will set `SIDE='sell'` and `PICK='best'`\n",
    "\n",
    "This way we are going to seel when $ROD3>=$ percentile."
   ]
  },
  {
   "cell_type": "code",
   "execution_count": 7,
   "id": "46f6c6c7",
   "metadata": {},
   "outputs": [
    {
     "name": "stderr",
     "output_type": "stream",
     "text": [
      "Backtesting: 100%|██████████| 475/475 [00:51<00:00,  9.27backtest/s]\n"
     ]
    },
    {
     "data": {
      "application/vnd.microsoft.datawrangler.viewer.v0+json": {
       "columns": [
        {
         "name": "index",
         "rawType": "int64",
         "type": "integer"
        },
        {
         "name": "ROD3_SAMPLE_SIZE",
         "rawType": "int64",
         "type": "integer"
        },
        {
         "name": "PCT",
         "rawType": "float64",
         "type": "float"
        },
        {
         "name": "Equity Final [$]",
         "rawType": "float64",
         "type": "float"
        },
        {
         "name": "Winrate",
         "rawType": "float64",
         "type": "float"
        },
        {
         "name": "Average Trade",
         "rawType": "float64",
         "type": "float"
        },
        {
         "name": "#Trades",
         "rawType": "int64",
         "type": "integer"
        }
       ],
       "ref": "049e8b54-c0cc-4a51-b096-1d6955a02ae0",
       "rows": [
        [
         "21",
         "20",
         "0.05",
         "11365.48",
         "50.68",
         "0.89",
         "1537"
        ],
        [
         "13",
         "10",
         "0.05",
         "11304.35",
         "50.61",
         "0.84",
         "1547"
        ],
        [
         "1",
         "10",
         "0.1",
         "11304.35",
         "50.61",
         "0.84",
         "1547"
        ],
        [
         "195",
         "110",
         "0.2",
         "10798.4",
         "50.39",
         "0.68",
         "1167"
        ],
        [
         "230",
         "130",
         "0.15000000000000002",
         "10810.89",
         "50.29",
         "0.67",
         "1217"
        ],
        [
         "269",
         "150",
         "0.2",
         "10649.36",
         "49.91",
         "0.57",
         "1136"
        ],
        [
         "135",
         "80",
         "0.2",
         "10672.03",
         "50.29",
         "0.56",
         "1197"
        ],
        [
         "19",
         "20",
         "0.1",
         "10775.46",
         "50.69",
         "0.53",
         "1456"
        ],
        [
         "174",
         "100",
         "0.15000000000000002",
         "10659.53",
         "50.69",
         "0.53",
         "1239"
        ],
        [
         "211",
         "120",
         "0.15000000000000002",
         "10648.66",
         "50.37",
         "0.53",
         "1223"
        ],
        [
         "59",
         "40",
         "0.25",
         "10601.76",
         "50.43",
         "0.51",
         "1176"
        ],
        [
         "289",
         "160",
         "0.2",
         "10571.99",
         "50.09",
         "0.51",
         "1122"
        ],
        [
         "232",
         "130",
         "0.2",
         "10580.26",
         "50.17",
         "0.5",
         "1152"
        ],
        [
         "250",
         "140",
         "0.2",
         "10564.74",
         "49.96",
         "0.49",
         "1143"
        ],
        [
         "36",
         "30",
         "0.05",
         "10706.74",
         "50.34",
         "0.48",
         "1466"
        ],
        [
         "192",
         "110",
         "0.15000000000000002",
         "10594.81",
         "50.61",
         "0.48",
         "1239"
        ],
        [
         "305",
         "170",
         "0.15000000000000002",
         "10568.57",
         "50.04",
         "0.48",
         "1185"
        ],
        [
         "287",
         "160",
         "0.15000000000000002",
         "10533.47",
         "50.04",
         "0.45",
         "1191"
        ],
        [
         "307",
         "170",
         "0.2",
         "10489.87",
         "50.04",
         "0.44",
         "1113"
        ],
        [
         "421",
         "230",
         "0.15000000000000002",
         "10486.37",
         "49.56",
         "0.43",
         "1132"
        ],
        [
         "177",
         "100",
         "0.25",
         "10480.26",
         "50.36",
         "0.43",
         "1112"
        ],
        [
         "247",
         "140",
         "0.15000000000000002",
         "10524.89",
         "49.96",
         "0.43",
         "1207"
        ],
        [
         "213",
         "120",
         "0.2",
         "10485.46",
         "50.04",
         "0.42",
         "1151"
        ],
        [
         "137",
         "80",
         "0.25",
         "10450.14",
         "49.96",
         "0.4",
         "1127"
        ],
        [
         "39",
         "30",
         "0.15000000000000002",
         "10509.92",
         "50.38",
         "0.39",
         "1316"
        ],
        [
         "267",
         "150",
         "0.15000000000000002",
         "10469.91",
         "49.83",
         "0.39",
         "1202"
        ],
        [
         "58",
         "40",
         "0.05",
         "10565.31",
         "50.34",
         "0.38",
         "1470"
        ],
        [
         "136",
         "80",
         "0.15000000000000002",
         "10474.65",
         "50.48",
         "0.38",
         "1256"
        ],
        [
         "365",
         "200",
         "0.15000000000000002",
         "10439.57",
         "49.83",
         "0.38",
         "1156"
        ],
        [
         "11",
         "10",
         "0.15000000000000002",
         "10499.09",
         "50.83",
         "0.36",
         "1389"
        ],
        [
         "363",
         "200",
         "0.2",
         "10391.61",
         "50.23",
         "0.36",
         "1091"
        ],
        [
         "173",
         "100",
         "0.2",
         "10424.13",
         "50.3",
         "0.36",
         "1177"
        ],
        [
         "10",
         "10",
         "0.2",
         "10499.09",
         "50.83",
         "0.36",
         "1389"
        ],
        [
         "155",
         "90",
         "0.2",
         "10417.11",
         "50.3",
         "0.35",
         "1183"
        ],
        [
         "347",
         "190",
         "0.15000000000000002",
         "10393.08",
         "49.87",
         "0.34",
         "1169"
        ],
        [
         "401",
         "220",
         "0.15000000000000002",
         "10384.26",
         "49.43",
         "0.34",
         "1141"
        ],
        [
         "61",
         "40",
         "0.15000000000000002",
         "10439.99",
         "50.19",
         "0.34",
         "1287"
        ],
        [
         "382",
         "210",
         "0.15000000000000002",
         "10379.61",
         "49.52",
         "0.33",
         "1151"
        ],
        [
         "344",
         "190",
         "0.2",
         "10365.13",
         "50.18",
         "0.33",
         "1102"
        ],
        [
         "41",
         "30",
         "0.2",
         "10410.16",
         "50.43",
         "0.32",
         "1271"
        ],
        [
         "134",
         "80",
         "0.05",
         "10457.42",
         "50.25",
         "0.32",
         "1417"
        ],
        [
         "438",
         "240",
         "0.1",
         "10365.2",
         "49.08",
         "0.31",
         "1192"
        ],
        [
         "325",
         "180",
         "0.15000000000000002",
         "10365.53",
         "49.91",
         "0.31",
         "1174"
        ],
        [
         "114",
         "70",
         "0.1",
         "10414.61",
         "50.29",
         "0.31",
         "1356"
        ],
        [
         "158",
         "90",
         "0.25",
         "10344.82",
         "50.13",
         "0.31",
         "1115"
        ],
        [
         "98",
         "60",
         "0.2",
         "10367.98",
         "50.2",
         "0.3",
         "1223"
        ],
        [
         "191",
         "110",
         "0.1",
         "10396.81",
         "50.23",
         "0.3",
         "1310"
        ],
        [
         "20",
         "20",
         "0.15000000000000002",
         "10385.37",
         "50.61",
         "0.29",
         "1310"
        ],
        [
         "22",
         "20",
         "0.2",
         "10385.37",
         "50.61",
         "0.29",
         "1310"
        ],
        [
         "154",
         "90",
         "0.15000000000000002",
         "10342.1",
         "50.28",
         "0.27",
         "1257"
        ]
       ],
       "shape": {
        "columns": 6,
        "rows": 475
       }
      },
      "text/html": [
       "<div>\n",
       "<style scoped>\n",
       "    .dataframe tbody tr th:only-of-type {\n",
       "        vertical-align: middle;\n",
       "    }\n",
       "\n",
       "    .dataframe tbody tr th {\n",
       "        vertical-align: top;\n",
       "    }\n",
       "\n",
       "    .dataframe thead th {\n",
       "        text-align: right;\n",
       "    }\n",
       "</style>\n",
       "<table border=\"1\" class=\"dataframe\">\n",
       "  <thead>\n",
       "    <tr style=\"text-align: right;\">\n",
       "      <th></th>\n",
       "      <th>ROD3_SAMPLE_SIZE</th>\n",
       "      <th>PCT</th>\n",
       "      <th>Equity Final [$]</th>\n",
       "      <th>Winrate</th>\n",
       "      <th>Average Trade</th>\n",
       "      <th>#Trades</th>\n",
       "    </tr>\n",
       "  </thead>\n",
       "  <tbody>\n",
       "    <tr>\n",
       "      <th>21</th>\n",
       "      <td>20</td>\n",
       "      <td>0.05</td>\n",
       "      <td>11365.48</td>\n",
       "      <td>50.68</td>\n",
       "      <td>0.89</td>\n",
       "      <td>1537</td>\n",
       "    </tr>\n",
       "    <tr>\n",
       "      <th>13</th>\n",
       "      <td>10</td>\n",
       "      <td>0.05</td>\n",
       "      <td>11304.35</td>\n",
       "      <td>50.61</td>\n",
       "      <td>0.84</td>\n",
       "      <td>1547</td>\n",
       "    </tr>\n",
       "    <tr>\n",
       "      <th>1</th>\n",
       "      <td>10</td>\n",
       "      <td>0.10</td>\n",
       "      <td>11304.35</td>\n",
       "      <td>50.61</td>\n",
       "      <td>0.84</td>\n",
       "      <td>1547</td>\n",
       "    </tr>\n",
       "    <tr>\n",
       "      <th>195</th>\n",
       "      <td>110</td>\n",
       "      <td>0.20</td>\n",
       "      <td>10798.40</td>\n",
       "      <td>50.39</td>\n",
       "      <td>0.68</td>\n",
       "      <td>1167</td>\n",
       "    </tr>\n",
       "    <tr>\n",
       "      <th>230</th>\n",
       "      <td>130</td>\n",
       "      <td>0.15</td>\n",
       "      <td>10810.89</td>\n",
       "      <td>50.29</td>\n",
       "      <td>0.67</td>\n",
       "      <td>1217</td>\n",
       "    </tr>\n",
       "    <tr>\n",
       "      <th>...</th>\n",
       "      <td>...</td>\n",
       "      <td>...</td>\n",
       "      <td>...</td>\n",
       "      <td>...</td>\n",
       "      <td>...</td>\n",
       "      <td>...</td>\n",
       "    </tr>\n",
       "    <tr>\n",
       "      <th>435</th>\n",
       "      <td>230</td>\n",
       "      <td>0.95</td>\n",
       "      <td>8471.47</td>\n",
       "      <td>42.42</td>\n",
       "      <td>-23.16</td>\n",
       "      <td>66</td>\n",
       "    </tr>\n",
       "    <tr>\n",
       "      <th>471</th>\n",
       "      <td>250</td>\n",
       "      <td>0.95</td>\n",
       "      <td>8472.78</td>\n",
       "      <td>41.54</td>\n",
       "      <td>-23.50</td>\n",
       "      <td>65</td>\n",
       "    </tr>\n",
       "    <tr>\n",
       "      <th>455</th>\n",
       "      <td>240</td>\n",
       "      <td>0.95</td>\n",
       "      <td>8489.50</td>\n",
       "      <td>42.86</td>\n",
       "      <td>-23.98</td>\n",
       "      <td>63</td>\n",
       "    </tr>\n",
       "    <tr>\n",
       "      <th>302</th>\n",
       "      <td>160</td>\n",
       "      <td>0.95</td>\n",
       "      <td>8464.96</td>\n",
       "      <td>46.88</td>\n",
       "      <td>-23.98</td>\n",
       "      <td>64</td>\n",
       "    </tr>\n",
       "    <tr>\n",
       "      <th>417</th>\n",
       "      <td>220</td>\n",
       "      <td>0.95</td>\n",
       "      <td>8477.17</td>\n",
       "      <td>42.86</td>\n",
       "      <td>-24.17</td>\n",
       "      <td>63</td>\n",
       "    </tr>\n",
       "  </tbody>\n",
       "</table>\n",
       "<p>475 rows × 6 columns</p>\n",
       "</div>"
      ],
      "text/plain": [
       "     ROD3_SAMPLE_SIZE   PCT  Equity Final [$]  Winrate  Average Trade  #Trades\n",
       "21                 20  0.05          11365.48    50.68           0.89     1537\n",
       "13                 10  0.05          11304.35    50.61           0.84     1547\n",
       "1                  10  0.10          11304.35    50.61           0.84     1547\n",
       "195               110  0.20          10798.40    50.39           0.68     1167\n",
       "230               130  0.15          10810.89    50.29           0.67     1217\n",
       "..                ...   ...               ...      ...            ...      ...\n",
       "435               230  0.95           8471.47    42.42         -23.16       66\n",
       "471               250  0.95           8472.78    41.54         -23.50       65\n",
       "455               240  0.95           8489.50    42.86         -23.98       63\n",
       "302               160  0.95           8464.96    46.88         -23.98       64\n",
       "417               220  0.95           8477.17    42.86         -24.17       63\n",
       "\n",
       "[475 rows x 6 columns]"
      ]
     },
     "metadata": {},
     "output_type": "display_data"
    }
   ],
   "source": [
    "df = main_df[main_df.index.year < 2024].copy()\n",
    "params_list = list(product(range(10, 252, 10), np.arange(0.05, 1.0, 0.05)))\n",
    "\n",
    "bt = Backtest(\n",
    "    data=df,\n",
    "    strategy=EndOfDayReversal_v2,\n",
    "    cash=10_000,\n",
    "    finalize_trades=True,\n",
    "    trade_on_close=True\n",
    ")\n",
    "\n",
    "# Multi-thread approach\n",
    "def do_backtest(args):\n",
    "    rod3_sample_size, pct = args\n",
    "    stats = bt.run(ROD3_SAMPLE_SIZE=rod3_sample_size, PCT=pct, SIDE='sell', PICK = 'best')\n",
    "    avg_trade = stats._trades.PnL.mean()\n",
    "    return {\n",
    "        \"ROD3_SAMPLE_SIZE\": rod3_sample_size,\n",
    "        \"PCT\": pct,\n",
    "        \"Equity Final [$]\": round(stats[\"Equity Final [$]\"], 2),\n",
    "        \"Winrate\": round(stats[\"Win Rate [%]\"], 2),\n",
    "        \"Average Trade\": round(avg_trade, 2),\n",
    "        '#Trades' : len(stats._trades),\n",
    "    }\n",
    "\n",
    "rows = []\n",
    "# use all available cores/threads, leaving 2 free\n",
    "cores_to_use = os.cpu_count()-2\n",
    "with ProcessPoolExecutor(max_workers=cores_to_use) as executor:\n",
    "    # create a list of actions (i.e. functions to execute) to do in a multi-threaded fashion\n",
    "    futures = [executor.submit(do_backtest, args) for args in params_list]\n",
    "    for fut in tqdm(as_completed(futures), total=len(futures), desc=\"Backtesting\", unit='backtest'):\n",
    "        rows.append(fut.result())\n",
    "\n",
    "display(pd.DataFrame(rows).sort_values(by='Average Trade', ascending=False))"
   ]
  },
  {
   "cell_type": "markdown",
   "id": "3bc60415",
   "metadata": {},
   "source": [
    "We have a positive result with the strategy that sell when $ROD3$ ranks above the 5% of the last 20 days. This is a really easy condition to be met, hence the high number of trade. Basically this strategy is selling, almost every day, on the last 30 minutes of the trading session."
   ]
  },
  {
   "cell_type": "code",
   "execution_count": 8,
   "id": "230a3cda",
   "metadata": {},
   "outputs": [
    {
     "name": "stderr",
     "output_type": "stream",
     "text": [
      "Backtest.run:   0%|          | 0/20253 [00:00<?, ?bar/s]"
     ]
    },
    {
     "name": "stderr",
     "output_type": "stream",
     "text": [
      "                                                        "
     ]
    },
    {
     "name": "stdout",
     "output_type": "stream",
     "text": [
      "Start                     2017-10-18 15:30:00\n",
      "End                       2023-12-29 16:00:00\n",
      "Duration                   2263 days 00:30:00\n",
      "Exposure Time [%]                    22.75106\n",
      "Equity Final [$]                     11375.14\n",
      "Equity Peak [$]                      12020.32\n",
      "Return [%]                            13.7514\n",
      "Buy & Hold Return [%]                85.76732\n",
      "Return (Ann.) [%]                     2.10316\n",
      "Volatility (Ann.) [%]                 7.17596\n",
      "CAGR [%]                              1.44511\n",
      "Sharpe Ratio                          0.29308\n",
      "Sortino Ratio                         0.41991\n",
      "Calmar Ratio                          0.13328\n",
      "Alpha [%]                            24.84041\n",
      "Beta                                 -0.12929\n",
      "Max. Drawdown [%]                   -15.78044\n",
      "Avg. Drawdown [%]                    -1.13271\n",
      "Max. Drawdown Duration      817 days 00:30:00\n",
      "Avg. Drawdown Duration       45 days 02:02:00\n",
      "# Trades                                 1536\n",
      "Win Rate [%]                         50.71615\n",
      "Best Trade [%]                        3.88182\n",
      "Worst Trade [%]                      -5.41203\n",
      "Avg. Trade [%]                        0.00856\n",
      "Max. Trade Duration           0 days 01:00:00\n",
      "Avg. Trade Duration           0 days 01:00:00\n",
      "Profit Factor                         1.07373\n",
      "Expectancy [%]                        0.00959\n",
      "SQN                                    0.7376\n",
      "Kelly Criterion                       0.02496\n",
      "_strategy                 EndOfDayReversal...\n",
      "_equity_curve                             ...\n",
      "_trades                         Size  Entr...\n",
      "dtype: object\n"
     ]
    },
    {
     "name": "stderr",
     "output_type": "stream",
     "text": [
      "/tmp/ipykernel_343015/1329850427.py:3: UserWarning: Some trades remain open at the end of backtest. Use `Backtest(..., finalize_trades=True)` to close them and include them in stats.\n",
      "  stats = bt.run(ROD3_SAMPLE_SIZE=20, PCT=0.05, SIDE='sell', PICK = 'best')\n"
     ]
    },
    {
     "data": {
      "image/png": "[encoded data removed]",
      "text/plain": [
       "<Figure size 1200x600 with 1 Axes>"
      ]
     },
     "metadata": {},
     "output_type": "display_data"
    }
   ],
   "source": [
    "df = main_df[main_df.index.year < 2024].copy()\n",
    "bt = Backtest(df, EndOfDayReversal_v2, trade_on_close=True)\n",
    "stats = bt.run(ROD3_SAMPLE_SIZE=20, PCT=0.05, SIDE='sell', PICK = 'best')\n",
    "\n",
    "print(stats)\n",
    "title = (\n",
    "    f\"[{df.index[0].date()} - {df.index[-1].date()}] \"\n",
    "    f\"ROD3_SAMPLE_SIZE={stats._strategy.ROD3_SAMPLE_SIZE}, \"\n",
    "    f\"PCT={stats._strategy.PCT}, \"\n",
    "    f'SIDE={stats._strategy.SIDE}, '\n",
    "    f'PICK={stats._strategy.PICK}'\n",
    ")\n",
    "stats._equity_curve['Equity'].plot(figsize=(12, 6), title=title)\n",
    "plt.show()"
   ]
  },
  {
   "cell_type": "markdown",
   "id": "1834134c",
   "metadata": {},
   "source": [
    "Looking at the equity curve, I wont call this a consisent pattern. Let's continue with other optimizations.\n",
    "\n",
    "### Optimization 2: sell when day has been too bad\n",
    "\n"
   ]
  },
  {
   "cell_type": "code",
   "execution_count": 9,
   "id": "bfc9ce7e",
   "metadata": {},
   "outputs": [
    {
     "name": "stderr",
     "output_type": "stream",
     "text": [
      "Backtesting: 100%|██████████| 475/475 [00:51<00:00,  9.27backtest/s]\n"
     ]
    },
    {
     "data": {
      "application/vnd.microsoft.datawrangler.viewer.v0+json": {
       "columns": [
        {
         "name": "index",
         "rawType": "int64",
         "type": "integer"
        },
        {
         "name": "ROD3_SAMPLE_SIZE",
         "rawType": "int64",
         "type": "integer"
        },
        {
         "name": "PCT",
         "rawType": "float64",
         "type": "float"
        },
        {
         "name": "Equity Final [$]",
         "rawType": "float64",
         "type": "float"
        },
        {
         "name": "Winrate",
         "rawType": "float64",
         "type": "float"
        },
        {
         "name": "Average Trade",
         "rawType": "float64",
         "type": "float"
        },
        {
         "name": "#Trades",
         "rawType": "int64",
         "type": "integer"
        }
       ],
       "ref": "704a2393-8337-4f80-ab2f-141522f9a209",
       "rows": [
        [
         "72",
         "50",
         "0.05",
         "11207.62",
         "59.7",
         "18.02",
         "67"
        ],
        [
         "112",
         "70",
         "0.05",
         "11069.39",
         "57.35",
         "15.73",
         "68"
        ],
        [
         "245",
         "140",
         "0.05",
         "11121.23",
         "64.86",
         "15.15",
         "74"
        ],
        [
         "95",
         "60",
         "0.05",
         "11059.27",
         "56.58",
         "13.94",
         "76"
        ],
        [
         "266",
         "150",
         "0.05",
         "10878.32",
         "64.18",
         "13.11",
         "67"
        ],
        [
         "58",
         "40",
         "0.05",
         "11081.99",
         "54.22",
         "13.04",
         "83"
        ],
        [
         "227",
         "130",
         "0.05",
         "10859.13",
         "60.87",
         "12.45",
         "69"
        ],
        [
         "341",
         "190",
         "0.05",
         "10780.14",
         "63.08",
         "12.0",
         "65"
        ],
        [
         "283",
         "160",
         "0.05",
         "10868.31",
         "63.01",
         "11.89",
         "73"
        ],
        [
         "207",
         "120",
         "0.05",
         "10874.6",
         "62.16",
         "11.82",
         "74"
        ],
        [
         "438",
         "240",
         "0.05",
         "10742.02",
         "58.46",
         "11.42",
         "65"
        ],
        [
         "323",
         "180",
         "0.05",
         "10793.21",
         "61.43",
         "11.33",
         "70"
        ],
        [
         "419",
         "230",
         "0.05",
         "10686.0",
         "57.14",
         "10.89",
         "63"
        ],
        [
         "400",
         "220",
         "0.05",
         "10743.03",
         "57.97",
         "10.77",
         "69"
        ],
        [
         "303",
         "170",
         "0.05",
         "10740.56",
         "61.43",
         "10.58",
         "70"
        ],
        [
         "381",
         "210",
         "0.05",
         "10697.29",
         "58.82",
         "10.25",
         "68"
        ],
        [
         "193",
         "110",
         "0.05",
         "10707.59",
         "59.42",
         "10.25",
         "69"
        ],
        [
         "172",
         "100",
         "0.05",
         "10782.0",
         "58.44",
         "10.16",
         "77"
        ],
        [
         "39",
         "30",
         "0.05",
         "10603.19",
         "55.74",
         "9.89",
         "61"
        ],
        [
         "17",
         "20",
         "0.1",
         "11546.43",
         "53.5",
         "9.85",
         "157"
        ],
        [
         "456",
         "250",
         "0.05",
         "10578.94",
         "58.33",
         "9.65",
         "60"
        ],
        [
         "357",
         "200",
         "0.05",
         "10678.13",
         "57.75",
         "9.55",
         "71"
        ],
        [
         "114",
         "70",
         "0.1",
         "11460.63",
         "54.84",
         "9.42",
         "155"
        ],
        [
         "129",
         "80",
         "0.05",
         "10725.72",
         "58.44",
         "9.42",
         "77"
        ],
        [
         "149",
         "90",
         "0.05",
         "10608.53",
         "56.94",
         "8.45",
         "72"
        ],
        [
         "97",
         "60",
         "0.1",
         "11205.69",
         "52.83",
         "7.58",
         "159"
        ],
        [
         "153",
         "90",
         "0.1",
         "11071.59",
         "52.9",
         "6.91",
         "155"
        ],
        [
         "15",
         "20",
         "0.05",
         "10554.54",
         "50.62",
         "6.85",
         "81"
        ],
        [
         "74",
         "50",
         "0.1",
         "11072.35",
         "52.5",
         "6.7",
         "160"
        ],
        [
         "38",
         "30",
         "0.1",
         "11004.63",
         "50.66",
         "6.61",
         "152"
        ],
        [
         "92",
         "60",
         "0.15000000000000002",
         "11530.84",
         "53.45",
         "6.6",
         "232"
        ],
        [
         "119",
         "70",
         "0.15000000000000002",
         "11415.78",
         "52.51",
         "6.46",
         "219"
        ],
        [
         "133",
         "80",
         "0.1",
         "10955.38",
         "52.6",
         "6.2",
         "154"
        ],
        [
         "120",
         "70",
         "0.4",
         "13301.95",
         "54.19",
         "5.64",
         "585"
        ],
        [
         "57",
         "40",
         "0.1",
         "10885.27",
         "51.9",
         "5.6",
         "158"
        ],
        [
         "102",
         "60",
         "0.45",
         "13748.36",
         "53.73",
         "5.59",
         "670"
        ],
        [
         "87",
         "50",
         "0.45",
         "13655.66",
         "53.72",
         "5.55",
         "659"
        ],
        [
         "122",
         "70",
         "0.45",
         "13600.56",
         "53.88",
         "5.48",
         "657"
        ],
        [
         "76",
         "50",
         "0.15000000000000002",
         "11159.34",
         "51.85",
         "5.37",
         "216"
        ],
        [
         "117",
         "70",
         "0.35000000000000003",
         "12656.06",
         "53.86",
         "5.26",
         "505"
        ],
        [
         "78",
         "50",
         "0.4",
         "13068.12",
         "53.6",
         "5.14",
         "597"
        ],
        [
         "100",
         "60",
         "0.35000000000000003",
         "12641.43",
         "53.85",
         "5.08",
         "520"
        ],
        [
         "0",
         "10",
         "0.2",
         "11651.67",
         "49.85",
         "5.02",
         "329"
        ],
        [
         "7",
         "10",
         "0.25",
         "11651.67",
         "49.85",
         "5.02",
         "329"
        ],
        [
         "80",
         "50",
         "0.35000000000000003",
         "12517.05",
         "53.54",
         "4.95",
         "508"
        ],
        [
         "62",
         "40",
         "0.35000000000000003",
         "12563.5",
         "53.85",
         "4.93",
         "520"
        ],
        [
         "67",
         "40",
         "0.4",
         "12938.08",
         "53.36",
         "4.93",
         "596"
        ],
        [
         "324",
         "180",
         "0.1",
         "10650.37",
         "54.14",
         "4.89",
         "133"
        ],
        [
         "4",
         "10",
         "0.15000000000000002",
         "10767.75",
         "48.73",
         "4.86",
         "158"
        ],
        [
         "5",
         "10",
         "0.1",
         "10767.75",
         "48.73",
         "4.86",
         "158"
        ]
       ],
       "shape": {
        "columns": 6,
        "rows": 475
       }
      },
      "text/html": [
       "<div>\n",
       "<style scoped>\n",
       "    .dataframe tbody tr th:only-of-type {\n",
       "        vertical-align: middle;\n",
       "    }\n",
       "\n",
       "    .dataframe tbody tr th {\n",
       "        vertical-align: top;\n",
       "    }\n",
       "\n",
       "    .dataframe thead th {\n",
       "        text-align: right;\n",
       "    }\n",
       "</style>\n",
       "<table border=\"1\" class=\"dataframe\">\n",
       "  <thead>\n",
       "    <tr style=\"text-align: right;\">\n",
       "      <th></th>\n",
       "      <th>ROD3_SAMPLE_SIZE</th>\n",
       "      <th>PCT</th>\n",
       "      <th>Equity Final [$]</th>\n",
       "      <th>Winrate</th>\n",
       "      <th>Average Trade</th>\n",
       "      <th>#Trades</th>\n",
       "    </tr>\n",
       "  </thead>\n",
       "  <tbody>\n",
       "    <tr>\n",
       "      <th>72</th>\n",
       "      <td>50</td>\n",
       "      <td>0.05</td>\n",
       "      <td>11207.62</td>\n",
       "      <td>59.70</td>\n",
       "      <td>18.02</td>\n",
       "      <td>67</td>\n",
       "    </tr>\n",
       "    <tr>\n",
       "      <th>112</th>\n",
       "      <td>70</td>\n",
       "      <td>0.05</td>\n",
       "      <td>11069.39</td>\n",
       "      <td>57.35</td>\n",
       "      <td>15.73</td>\n",
       "      <td>68</td>\n",
       "    </tr>\n",
       "    <tr>\n",
       "      <th>245</th>\n",
       "      <td>140</td>\n",
       "      <td>0.05</td>\n",
       "      <td>11121.23</td>\n",
       "      <td>64.86</td>\n",
       "      <td>15.15</td>\n",
       "      <td>74</td>\n",
       "    </tr>\n",
       "    <tr>\n",
       "      <th>95</th>\n",
       "      <td>60</td>\n",
       "      <td>0.05</td>\n",
       "      <td>11059.27</td>\n",
       "      <td>56.58</td>\n",
       "      <td>13.94</td>\n",
       "      <td>76</td>\n",
       "    </tr>\n",
       "    <tr>\n",
       "      <th>266</th>\n",
       "      <td>150</td>\n",
       "      <td>0.05</td>\n",
       "      <td>10878.32</td>\n",
       "      <td>64.18</td>\n",
       "      <td>13.11</td>\n",
       "      <td>67</td>\n",
       "    </tr>\n",
       "    <tr>\n",
       "      <th>...</th>\n",
       "      <td>...</td>\n",
       "      <td>...</td>\n",
       "      <td>...</td>\n",
       "      <td>...</td>\n",
       "      <td>...</td>\n",
       "      <td>...</td>\n",
       "    </tr>\n",
       "    <tr>\n",
       "      <th>212</th>\n",
       "      <td>120</td>\n",
       "      <td>0.15</td>\n",
       "      <td>10059.87</td>\n",
       "      <td>49.53</td>\n",
       "      <td>0.28</td>\n",
       "      <td>214</td>\n",
       "    </tr>\n",
       "    <tr>\n",
       "      <th>211</th>\n",
       "      <td>120</td>\n",
       "      <td>0.20</td>\n",
       "      <td>10078.66</td>\n",
       "      <td>50.17</td>\n",
       "      <td>0.27</td>\n",
       "      <td>291</td>\n",
       "    </tr>\n",
       "    <tr>\n",
       "      <th>194</th>\n",
       "      <td>110</td>\n",
       "      <td>0.20</td>\n",
       "      <td>10000.98</td>\n",
       "      <td>50.17</td>\n",
       "      <td>0.00</td>\n",
       "      <td>293</td>\n",
       "    </tr>\n",
       "    <tr>\n",
       "      <th>233</th>\n",
       "      <td>130</td>\n",
       "      <td>0.15</td>\n",
       "      <td>9949.43</td>\n",
       "      <td>50.00</td>\n",
       "      <td>-0.24</td>\n",
       "      <td>210</td>\n",
       "    </tr>\n",
       "    <tr>\n",
       "      <th>3</th>\n",
       "      <td>10</td>\n",
       "      <td>0.05</td>\n",
       "      <td>10000.00</td>\n",
       "      <td>NaN</td>\n",
       "      <td>NaN</td>\n",
       "      <td>0</td>\n",
       "    </tr>\n",
       "  </tbody>\n",
       "</table>\n",
       "<p>475 rows × 6 columns</p>\n",
       "</div>"
      ],
      "text/plain": [
       "     ROD3_SAMPLE_SIZE   PCT  Equity Final [$]  Winrate  Average Trade  #Trades\n",
       "72                 50  0.05          11207.62    59.70          18.02       67\n",
       "112                70  0.05          11069.39    57.35          15.73       68\n",
       "245               140  0.05          11121.23    64.86          15.15       74\n",
       "95                 60  0.05          11059.27    56.58          13.94       76\n",
       "266               150  0.05          10878.32    64.18          13.11       67\n",
       "..                ...   ...               ...      ...            ...      ...\n",
       "212               120  0.15          10059.87    49.53           0.28      214\n",
       "211               120  0.20          10078.66    50.17           0.27      291\n",
       "194               110  0.20          10000.98    50.17           0.00      293\n",
       "233               130  0.15           9949.43    50.00          -0.24      210\n",
       "3                  10  0.05          10000.00      NaN            NaN        0\n",
       "\n",
       "[475 rows x 6 columns]"
      ]
     },
     "metadata": {},
     "output_type": "display_data"
    }
   ],
   "source": [
    "df = main_df[main_df.index.year < 2024].copy()\n",
    "params_list = list(product(range(10, 252, 10), np.arange(0.05, 1.0, 0.05)))\n",
    "\n",
    "bt = Backtest(\n",
    "    data=df,\n",
    "    strategy=EndOfDayReversal_v2,\n",
    "    cash=10_000,\n",
    "    finalize_trades=True,\n",
    "    trade_on_close=True\n",
    ")\n",
    "\n",
    "# Multi-thread approach\n",
    "def do_backtest(args):\n",
    "    rod3_sample_size, pct = args\n",
    "    stats = bt.run(ROD3_SAMPLE_SIZE=rod3_sample_size, PCT=pct, SIDE='sell', PICK = 'worst')\n",
    "    avg_trade = stats._trades.PnL.mean()\n",
    "    return {\n",
    "        \"ROD3_SAMPLE_SIZE\": rod3_sample_size,\n",
    "        \"PCT\": pct,\n",
    "        \"Equity Final [$]\": round(stats[\"Equity Final [$]\"], 2),\n",
    "        \"Winrate\": round(stats[\"Win Rate [%]\"], 2),\n",
    "        \"Average Trade\": round(avg_trade, 2),\n",
    "        '#Trades' : len(stats._trades),\n",
    "    }\n",
    "\n",
    "rows = []\n",
    "# use all available cores/threads, leaving 2 free\n",
    "cores_to_use = os.cpu_count()-2\n",
    "with ProcessPoolExecutor(max_workers=cores_to_use) as executor:\n",
    "    # create a list of actions (i.e. functions to execute) to do in a multi-threaded fashion\n",
    "    futures = [executor.submit(do_backtest, args) for args in params_list]\n",
    "    for fut in tqdm(as_completed(futures), total=len(futures), desc=\"Backtesting\", unit='backtest'):\n",
    "        rows.append(fut.result())\n",
    "\n",
    "display(pd.DataFrame(rows).sort_values(by='Average Trade', ascending=False))"
   ]
  },
  {
   "cell_type": "code",
   "execution_count": 10,
   "id": "c16c51ae",
   "metadata": {},
   "outputs": [
    {
     "name": "stderr",
     "output_type": "stream",
     "text": [
      "                                                        "
     ]
    },
    {
     "name": "stdout",
     "output_type": "stream",
     "text": [
      "Start                     2017-10-18 15:30:00\n",
      "End                       2023-12-29 16:00:00\n",
      "Duration                   2263 days 00:30:00\n",
      "Exposure Time [%]                      0.9924\n",
      "Equity Final [$]                     11207.62\n",
      "Equity Peak [$]                      11237.26\n",
      "Return [%]                            12.0762\n",
      "Buy & Hold Return [%]                85.76732\n",
      "Return (Ann.) [%]                     1.85874\n",
      "Volatility (Ann.) [%]                 2.79857\n",
      "CAGR [%]                              1.27764\n",
      "Sharpe Ratio                          0.66418\n",
      "Sortino Ratio                          1.2608\n",
      "Calmar Ratio                           0.4989\n",
      "Alpha [%]                            13.61843\n",
      "Beta                                 -0.01798\n",
      "Max. Drawdown [%]                    -3.72565\n",
      "Avg. Drawdown [%]                    -1.12957\n",
      "Max. Drawdown Duration      799 days 00:00:00\n",
      "Avg. Drawdown Duration      177 days 10:03:00\n",
      "# Trades                                   67\n",
      "Win Rate [%]                         59.70149\n",
      "Best Trade [%]                        3.88182\n",
      "Worst Trade [%]                      -2.21695\n",
      "Avg. Trade [%]                        0.17284\n",
      "Max. Trade Duration           0 days 01:00:00\n",
      "Avg. Trade Duration           0 days 01:00:00\n",
      "Profit Factor                         1.96077\n",
      "Expectancy [%]                        0.17626\n",
      "SQN                                   1.68986\n",
      "Kelly Criterion                       0.28733\n",
      "_strategy                 EndOfDayReversal...\n",
      "_equity_curve                             ...\n",
      "_trades                       Size  EntryB...\n",
      "dtype: object\n"
     ]
    },
    {
     "name": "stderr",
     "output_type": "stream",
     "text": [
      "\r"
     ]
    },
    {
     "data": {
      "image/png": "[encoded data removed]",
      "text/plain": [
       "<Figure size 1200x600 with 1 Axes>"
      ]
     },
     "metadata": {},
     "output_type": "display_data"
    }
   ],
   "source": [
    "df = main_df[main_df.index.year < 2024].copy()\n",
    "\n",
    "bt = Backtest(df, EndOfDayReversal_v2, trade_on_close=True)\n",
    "stats = bt.run(ROD3_SAMPLE_SIZE=50, PCT=0.05, SIDE='sell', PICK = 'worst')\n",
    "\n",
    "print(stats)\n",
    "title = (\n",
    "    f\"[{df.index[0].date()} - {df.index[-1].date()}] \"\n",
    "    f\"ROD3_SAMPLE_SIZE={stats._strategy.ROD3_SAMPLE_SIZE}, \"\n",
    "    f\"PCT={stats._strategy.PCT}, \"\n",
    "    f'SIDE={stats._strategy.SIDE}, '\n",
    "    f'PICK={stats._strategy.PICK}'\n",
    ")\n",
    "stats._equity_curve['Equity'].plot(figsize=(12, 6), title=title)\n",
    "plt.show()"
   ]
  },
  {
   "attachments": {
    "image.png": {
     "image/png": "[encoded data removed]"
    }
   },
   "cell_type": "markdown",
   "id": "ad47de3d",
   "metadata": {},
   "source": [
    "This strategy sells when ROD3 ranks below the 5% of the last 50 days observations. \n",
    "\n",
    "The overall results and equity curve shape does not seems to change with configurations that has more trades, for example the one with `ROD3_SAMPLE_SIZE=20, PCT=0.1` that has more executed trades:\n",
    "\n",
    "![image.png](attachment:image.png)\n",
    "\n",
    "So we can say that the best configuration despite having a smaller amount of trades is not mere luck because the one with more trades do not differ that much. Of course everything will be confirmed or denied in the OOS test.\n",
    "\n",
    "### Optimization 3: buy when the day has been too good."
   ]
  },
  {
   "cell_type": "code",
   "execution_count": 11,
   "id": "7487fc3b",
   "metadata": {},
   "outputs": [
    {
     "name": "stderr",
     "output_type": "stream",
     "text": [
      "Backtesting: 100%|██████████| 475/475 [00:52<00:00,  9.03backtest/s]\n"
     ]
    },
    {
     "data": {
      "application/vnd.microsoft.datawrangler.viewer.v0+json": {
       "columns": [
        {
         "name": "index",
         "rawType": "int64",
         "type": "integer"
        },
        {
         "name": "ROD3_SAMPLE_SIZE",
         "rawType": "int64",
         "type": "integer"
        },
        {
         "name": "PCT",
         "rawType": "float64",
         "type": "float"
        },
        {
         "name": "Equity Final [$]",
         "rawType": "float64",
         "type": "float"
        },
        {
         "name": "Winrate",
         "rawType": "float64",
         "type": "float"
        },
        {
         "name": "Average Trade",
         "rawType": "float64",
         "type": "float"
        },
        {
         "name": "#Trades",
         "rawType": "int64",
         "type": "integer"
        }
       ],
       "ref": "a61c89b9-ea47-45ce-863b-072c9ccdf938",
       "rows": [
        [
         "417",
         "220",
         "0.9500000000000001",
         "11708.5",
         "57.14",
         "27.12",
         "63"
        ],
        [
         "454",
         "240",
         "0.9500000000000001",
         "11696.52",
         "57.14",
         "26.93",
         "63"
        ],
        [
         "303",
         "160",
         "0.9500000000000001",
         "11721.51",
         "53.12",
         "26.9",
         "64"
        ],
        [
         "472",
         "250",
         "0.9500000000000001",
         "11723.53",
         "58.46",
         "26.52",
         "65"
        ],
        [
         "436",
         "230",
         "0.9500000000000001",
         "11729.75",
         "57.58",
         "26.21",
         "66"
        ],
        [
         "340",
         "180",
         "0.9500000000000001",
         "11644.41",
         "54.69",
         "25.69",
         "64"
        ],
        [
         "379",
         "200",
         "0.9500000000000001",
         "11668.91",
         "55.22",
         "24.91",
         "67"
        ],
        [
         "360",
         "190",
         "0.9500000000000001",
         "11687.84",
         "56.52",
         "24.46",
         "69"
        ],
        [
         "398",
         "210",
         "0.9500000000000001",
         "11657.67",
         "55.88",
         "24.38",
         "68"
        ],
        [
         "322",
         "170",
         "0.9500000000000001",
         "11617.08",
         "52.94",
         "23.78",
         "68"
        ],
        [
         "228",
         "120",
         "0.9500000000000001",
         "11316.83",
         "49.23",
         "20.26",
         "65"
        ],
        [
         "282",
         "150",
         "0.9500000000000001",
         "11258.15",
         "47.89",
         "17.72",
         "71"
        ],
        [
         "245",
         "130",
         "0.9500000000000001",
         "11069.66",
         "45.21",
         "14.65",
         "73"
        ],
        [
         "189",
         "100",
         "0.9500000000000001",
         "10964.02",
         "43.06",
         "13.39",
         "72"
        ],
        [
         "76",
         "40",
         "0.9500000000000001",
         "11083.06",
         "40.74",
         "13.37",
         "81"
        ],
        [
         "113",
         "60",
         "0.9500000000000001",
         "11113.45",
         "42.86",
         "13.26",
         "84"
        ],
        [
         "208",
         "110",
         "0.9500000000000001",
         "10993.79",
         "42.86",
         "12.91",
         "77"
        ],
        [
         "56",
         "30",
         "0.9500000000000001",
         "11261.07",
         "40.38",
         "12.13",
         "104"
        ],
        [
         "264",
         "140",
         "0.9500000000000001",
         "10786.8",
         "47.69",
         "12.1",
         "65"
        ],
        [
         "283",
         "150",
         "0.9000000000000001",
         "11532.23",
         "49.62",
         "11.52",
         "133"
        ],
        [
         "144",
         "80",
         "0.9500000000000001",
         "10867.91",
         "42.11",
         "11.42",
         "76"
        ],
        [
         "132",
         "70",
         "0.9500000000000001",
         "11022.81",
         "45.56",
         "11.36",
         "90"
        ],
        [
         "93",
         "50",
         "0.9500000000000001",
         "11080.14",
         "44.9",
         "11.02",
         "98"
        ],
        [
         "435",
         "230",
         "0.9000000000000001",
         "11506.72",
         "48.18",
         "11.0",
         "137"
        ],
        [
         "456",
         "240",
         "0.9000000000000001",
         "11479.36",
         "47.45",
         "10.8",
         "137"
        ],
        [
         "265",
         "140",
         "0.9000000000000001",
         "11427.81",
         "49.25",
         "10.66",
         "134"
        ],
        [
         "414",
         "220",
         "0.9000000000000001",
         "11441.91",
         "47.06",
         "10.6",
         "136"
        ],
        [
         "474",
         "250",
         "0.9000000000000001",
         "11443.38",
         "47.86",
         "10.31",
         "140"
        ],
        [
         "359",
         "190",
         "0.9000000000000001",
         "11320.85",
         "47.69",
         "10.16",
         "130"
        ],
        [
         "170",
         "90",
         "0.9500000000000001",
         "10831.93",
         "40.96",
         "10.02",
         "83"
        ],
        [
         "397",
         "210",
         "0.9000000000000001",
         "11327.21",
         "46.67",
         "9.83",
         "135"
        ],
        [
         "341",
         "180",
         "0.9000000000000001",
         "11230.13",
         "48.46",
         "9.46",
         "130"
        ],
        [
         "243",
         "130",
         "0.9000000000000001",
         "11245.95",
         "46.21",
         "9.44",
         "132"
        ],
        [
         "378",
         "200",
         "0.9000000000000001",
         "11262.33",
         "46.27",
         "9.42",
         "134"
        ],
        [
         "302",
         "160",
         "0.9000000000000001",
         "11231.84",
         "46.97",
         "9.33",
         "132"
        ],
        [
         "321",
         "170",
         "0.9000000000000001",
         "11197.57",
         "46.92",
         "9.21",
         "130"
        ],
        [
         "37",
         "20",
         "0.9000000000000001",
         "11414.68",
         "42.86",
         "9.19",
         "154"
        ],
        [
         "36",
         "20",
         "0.9500000000000001",
         "10708.77",
         "39.74",
         "9.09",
         "78"
        ],
        [
         "23",
         "10",
         "0.9000000000000001",
         "11361.28",
         "47.02",
         "9.02",
         "151"
        ],
        [
         "18",
         "10",
         "0.9500000000000001",
         "11361.28",
         "47.02",
         "9.02",
         "151"
        ],
        [
         "131",
         "70",
         "0.9000000000000001",
         "11319.49",
         "47.65",
         "8.86",
         "149"
        ],
        [
         "413",
         "220",
         "0.8500000000000001",
         "11781.9",
         "48.51",
         "8.82",
         "202"
        ],
        [
         "396",
         "210",
         "0.8500000000000001",
         "11812.74",
         "48.56",
         "8.72",
         "208"
        ],
        [
         "453",
         "240",
         "0.8500000000000001",
         "11704.66",
         "48.47",
         "8.7",
         "196"
        ],
        [
         "377",
         "200",
         "0.8500000000000001",
         "11762.71",
         "48.28",
         "8.68",
         "203"
        ],
        [
         "54",
         "30",
         "0.9000000000000001",
         "11335.85",
         "44.87",
         "8.56",
         "156"
        ],
        [
         "301",
         "160",
         "0.8500000000000001",
         "11726.58",
         "48.77",
         "8.51",
         "203"
        ],
        [
         "151",
         "80",
         "0.9000000000000001",
         "11267.39",
         "48.03",
         "8.34",
         "152"
        ],
        [
         "433",
         "230",
         "0.8500000000000001",
         "11658.06",
         "47.74",
         "8.33",
         "199"
        ],
        [
         "471",
         "250",
         "0.8500000000000001",
         "11631.5",
         "48.24",
         "8.2",
         "199"
        ]
       ],
       "shape": {
        "columns": 6,
        "rows": 475
       }
      },
      "text/html": [
       "<div>\n",
       "<style scoped>\n",
       "    .dataframe tbody tr th:only-of-type {\n",
       "        vertical-align: middle;\n",
       "    }\n",
       "\n",
       "    .dataframe tbody tr th {\n",
       "        vertical-align: top;\n",
       "    }\n",
       "\n",
       "    .dataframe thead th {\n",
       "        text-align: right;\n",
       "    }\n",
       "</style>\n",
       "<table border=\"1\" class=\"dataframe\">\n",
       "  <thead>\n",
       "    <tr style=\"text-align: right;\">\n",
       "      <th></th>\n",
       "      <th>ROD3_SAMPLE_SIZE</th>\n",
       "      <th>PCT</th>\n",
       "      <th>Equity Final [$]</th>\n",
       "      <th>Winrate</th>\n",
       "      <th>Average Trade</th>\n",
       "      <th>#Trades</th>\n",
       "    </tr>\n",
       "  </thead>\n",
       "  <tbody>\n",
       "    <tr>\n",
       "      <th>417</th>\n",
       "      <td>220</td>\n",
       "      <td>0.95</td>\n",
       "      <td>11708.50</td>\n",
       "      <td>57.14</td>\n",
       "      <td>27.12</td>\n",
       "      <td>63</td>\n",
       "    </tr>\n",
       "    <tr>\n",
       "      <th>454</th>\n",
       "      <td>240</td>\n",
       "      <td>0.95</td>\n",
       "      <td>11696.52</td>\n",
       "      <td>57.14</td>\n",
       "      <td>26.93</td>\n",
       "      <td>63</td>\n",
       "    </tr>\n",
       "    <tr>\n",
       "      <th>303</th>\n",
       "      <td>160</td>\n",
       "      <td>0.95</td>\n",
       "      <td>11721.51</td>\n",
       "      <td>53.12</td>\n",
       "      <td>26.90</td>\n",
       "      <td>64</td>\n",
       "    </tr>\n",
       "    <tr>\n",
       "      <th>472</th>\n",
       "      <td>250</td>\n",
       "      <td>0.95</td>\n",
       "      <td>11723.53</td>\n",
       "      <td>58.46</td>\n",
       "      <td>26.52</td>\n",
       "      <td>65</td>\n",
       "    </tr>\n",
       "    <tr>\n",
       "      <th>436</th>\n",
       "      <td>230</td>\n",
       "      <td>0.95</td>\n",
       "      <td>11729.75</td>\n",
       "      <td>57.58</td>\n",
       "      <td>26.21</td>\n",
       "      <td>66</td>\n",
       "    </tr>\n",
       "    <tr>\n",
       "      <th>...</th>\n",
       "      <td>...</td>\n",
       "      <td>...</td>\n",
       "      <td>...</td>\n",
       "      <td>...</td>\n",
       "      <td>...</td>\n",
       "      <td>...</td>\n",
       "    </tr>\n",
       "    <tr>\n",
       "      <th>230</th>\n",
       "      <td>130</td>\n",
       "      <td>0.15</td>\n",
       "      <td>9084.02</td>\n",
       "      <td>48.97</td>\n",
       "      <td>-0.75</td>\n",
       "      <td>1217</td>\n",
       "    </tr>\n",
       "    <tr>\n",
       "      <th>193</th>\n",
       "      <td>110</td>\n",
       "      <td>0.20</td>\n",
       "      <td>9079.69</td>\n",
       "      <td>48.84</td>\n",
       "      <td>-0.79</td>\n",
       "      <td>1167</td>\n",
       "    </tr>\n",
       "    <tr>\n",
       "      <th>10</th>\n",
       "      <td>10</td>\n",
       "      <td>0.10</td>\n",
       "      <td>8551.14</td>\n",
       "      <td>48.80</td>\n",
       "      <td>-0.94</td>\n",
       "      <td>1547</td>\n",
       "    </tr>\n",
       "    <tr>\n",
       "      <th>2</th>\n",
       "      <td>10</td>\n",
       "      <td>0.05</td>\n",
       "      <td>8551.14</td>\n",
       "      <td>48.80</td>\n",
       "      <td>-0.94</td>\n",
       "      <td>1547</td>\n",
       "    </tr>\n",
       "    <tr>\n",
       "      <th>24</th>\n",
       "      <td>20</td>\n",
       "      <td>0.05</td>\n",
       "      <td>8547.52</td>\n",
       "      <td>48.73</td>\n",
       "      <td>-0.95</td>\n",
       "      <td>1537</td>\n",
       "    </tr>\n",
       "  </tbody>\n",
       "</table>\n",
       "<p>475 rows × 6 columns</p>\n",
       "</div>"
      ],
      "text/plain": [
       "     ROD3_SAMPLE_SIZE   PCT  Equity Final [$]  Winrate  Average Trade  #Trades\n",
       "417               220  0.95          11708.50    57.14          27.12       63\n",
       "454               240  0.95          11696.52    57.14          26.93       63\n",
       "303               160  0.95          11721.51    53.12          26.90       64\n",
       "472               250  0.95          11723.53    58.46          26.52       65\n",
       "436               230  0.95          11729.75    57.58          26.21       66\n",
       "..                ...   ...               ...      ...            ...      ...\n",
       "230               130  0.15           9084.02    48.97          -0.75     1217\n",
       "193               110  0.20           9079.69    48.84          -0.79     1167\n",
       "10                 10  0.10           8551.14    48.80          -0.94     1547\n",
       "2                  10  0.05           8551.14    48.80          -0.94     1547\n",
       "24                 20  0.05           8547.52    48.73          -0.95     1537\n",
       "\n",
       "[475 rows x 6 columns]"
      ]
     },
     "metadata": {},
     "output_type": "display_data"
    }
   ],
   "source": [
    "df = main_df[main_df.index.year < 2024].copy()\n",
    "params_list = list(product(range(10, 252, 10), np.arange(0.05, 1.0, 0.05)))\n",
    "\n",
    "bt = Backtest(\n",
    "    data=df,\n",
    "    strategy=EndOfDayReversal_v2,\n",
    "    cash=10_000,\n",
    "    finalize_trades=True,\n",
    "    trade_on_close=True\n",
    ")\n",
    "\n",
    "# Multi-thread approach\n",
    "def do_backtest(args):\n",
    "    rod3_sample_size, pct = args\n",
    "    stats = bt.run(ROD3_SAMPLE_SIZE=rod3_sample_size, PCT=pct, SIDE='buy', PICK = 'best')\n",
    "    avg_trade = stats._trades.PnL.mean()\n",
    "    return {\n",
    "        \"ROD3_SAMPLE_SIZE\": rod3_sample_size,\n",
    "        \"PCT\": pct,\n",
    "        \"Equity Final [$]\": round(stats[\"Equity Final [$]\"], 2),\n",
    "        \"Winrate\": round(stats[\"Win Rate [%]\"], 2),\n",
    "        \"Average Trade\": round(avg_trade, 2),\n",
    "        '#Trades' : len(stats._trades),\n",
    "    }\n",
    "\n",
    "rows = []\n",
    "# use all available cores/threads, leaving 2 free\n",
    "cores_to_use = os.cpu_count()-2\n",
    "with ProcessPoolExecutor(max_workers=cores_to_use) as executor:\n",
    "    # create a list of actions (i.e. functions to execute) to do in a multi-threaded fashion\n",
    "    futures = [executor.submit(do_backtest, args) for args in params_list]\n",
    "    for fut in tqdm(as_completed(futures), total=len(futures), desc=\"Backtesting\", unit='backtest'):\n",
    "        rows.append(fut.result())\n",
    "\n",
    "display(pd.DataFrame(rows).sort_values(by='Average Trade', ascending=False))"
   ]
  },
  {
   "cell_type": "code",
   "execution_count": 12,
   "id": "260ebed9",
   "metadata": {},
   "outputs": [
    {
     "name": "stderr",
     "output_type": "stream",
     "text": [
      "                                                        "
     ]
    },
    {
     "name": "stdout",
     "output_type": "stream",
     "text": [
      "Start                     2017-10-18 15:30:00\n",
      "End                       2023-12-29 16:00:00\n",
      "Duration                   2263 days 00:30:00\n",
      "Exposure Time [%]                     1.02202\n",
      "Equity Final [$]                     11590.97\n",
      "Equity Peak [$]                       11661.9\n",
      "Return [%]                            15.9097\n",
      "Buy & Hold Return [%]                85.76732\n",
      "Return (Ann.) [%]                     2.41364\n",
      "Volatility (Ann.) [%]                 3.42831\n",
      "CAGR [%]                              1.65766\n",
      "Sharpe Ratio                          0.70403\n",
      "Sortino Ratio                         1.63192\n",
      "Calmar Ratio                          0.77994\n",
      "Alpha [%]                            13.72962\n",
      "Beta                                  0.02542\n",
      "Max. Drawdown [%]                    -3.09467\n",
      "Avg. Drawdown [%]                    -1.08062\n",
      "Max. Drawdown Duration      795 days 01:00:00\n",
      "Avg. Drawdown Duration      221 days 15:45:00\n",
      "# Trades                                   69\n",
      "Win Rate [%]                         55.07246\n",
      "Best Trade [%]                        5.41203\n",
      "Worst Trade [%]                      -3.00684\n",
      "Avg. Trade [%]                        0.21779\n",
      "Max. Trade Duration           0 days 01:00:00\n",
      "Avg. Trade Duration           0 days 01:00:00\n",
      "Profit Factor                         2.29572\n",
      "Expectancy [%]                        0.22265\n",
      "SQN                                   1.79686\n",
      "Kelly Criterion                       0.30323\n",
      "_strategy                 EndOfDayReversal...\n",
      "_equity_curve                             ...\n",
      "_trades                       Size  EntryB...\n",
      "dtype: object\n"
     ]
    },
    {
     "name": "stderr",
     "output_type": "stream",
     "text": [
      "\r"
     ]
    },
    {
     "data": {
      "image/png": "[encoded data removed]",
      "text/plain": [
       "<Figure size 1200x600 with 1 Axes>"
      ]
     },
     "metadata": {},
     "output_type": "display_data"
    }
   ],
   "source": [
    "df = main_df[main_df.index.year < 2024].copy()\n",
    "\n",
    "bt = Backtest(df, EndOfDayReversal_v2, trade_on_close=True)\n",
    "stats = bt.run(ROD3_SAMPLE_SIZE=220, PCT=0.95, SIDE='buy', PICK = 'best')\n",
    "\n",
    "print(stats)\n",
    "title = (\n",
    "    f\"[{df.index[0].date()} - {df.index[-1].date()}] \"\n",
    "    f\"ROD3_SAMPLE_SIZE={stats._strategy.ROD3_SAMPLE_SIZE}, \"\n",
    "    f\"PCT={stats._strategy.PCT}, \"\n",
    "    f'SIDE={stats._strategy.SIDE}, '\n",
    "    f'PICK={stats._strategy.PICK}'\n",
    ")\n",
    "stats._equity_curve['Equity'].plot(figsize=(12, 6), title=title)\n",
    "plt.show()"
   ]
  },
  {
   "attachments": {
    "image.png": {
     "image/png": "[encoded data removed]"
    }
   },
   "cell_type": "markdown",
   "id": "6bcf8209",
   "metadata": {},
   "source": [
    "This time we picked the best result because with larger number of trades we ended up being in a drawdown during the preiod from ~2020 to 2022:\n",
    "\n",
    "![](attachment:image.png)\n",
    "\n",
    "Thus, buying on the best days yields positive results, but we need to look at 95% percentile and most importantly along a broeader ROD3 observations window size.\n",
    "\n",
    "> Of course this is over fitting, but thanks to OOS test we will see if these considerations are true.\n"
   ]
  },
  {
   "cell_type": "markdown",
   "id": "ff9f3c1f",
   "metadata": {},
   "source": [
    "### Combine two strategies\n",
    "\n",
    "Before doing an out of sample test, let's combine the two positive results into a single strategy that:\n",
    "1. Buys when the day ROD3 ranks above the 95% of the past 220 days observations.\n",
    "2. Sell when the day ROD3 ranks below the worst 10% observations in the last 20 days."
   ]
  },
  {
   "cell_type": "code",
   "execution_count": 3,
   "id": "bf58920e",
   "metadata": {},
   "outputs": [
    {
     "name": "stderr",
     "output_type": "stream",
     "text": [
      "Backtest.run:   0%|          | 0/20253 [00:00<?, ?bar/s]"
     ]
    },
    {
     "name": "stderr",
     "output_type": "stream",
     "text": [
      "                                                        \r"
     ]
    },
    {
     "name": "stdout",
     "output_type": "stream",
     "text": [
      "Start                     2017-10-18 15:30:00\n",
      "End                       2023-12-29 16:00:00\n",
      "Duration                   2263 days 00:30:00\n",
      "Exposure Time [%]                     3.34749\n",
      "Equity Final [$]                     10092.85\n",
      "Equity Peak [$]                      10093.82\n",
      "Return [%]                             0.9285\n",
      "Buy & Hold Return [%]                85.76732\n",
      "Return (Ann.) [%]                     0.14941\n",
      "Volatility (Ann.) [%]                 0.13505\n",
      "CAGR [%]                              0.10297\n",
      "Sharpe Ratio                          1.10635\n",
      "Sortino Ratio                         2.07897\n",
      "Calmar Ratio                          0.76723\n",
      "Alpha [%]                             0.92791\n",
      "Beta                                  0.00001\n",
      "Max. Drawdown [%]                    -0.19474\n",
      "Avg. Drawdown [%]                    -0.03856\n",
      "Max. Drawdown Duration      418 days 00:00:00\n",
      "Avg. Drawdown Duration       90 days 06:00:00\n",
      "# Trades                                  226\n",
      "Win Rate [%]                          53.9823\n",
      "Best Trade [%]                        5.41203\n",
      "Worst Trade [%]                      -3.00684\n",
      "Avg. Trade [%]                        0.13093\n",
      "Max. Trade Duration           0 days 01:00:00\n",
      "Avg. Trade Duration           0 days 01:00:00\n",
      "Profit Factor                         1.91505\n",
      "Expectancy [%]                        0.13365\n",
      "SQN                                   2.79183\n",
      "Kelly Criterion                       0.24676\n",
      "_strategy                 EndOfDayReversal_v3\n",
      "_equity_curve                             ...\n",
      "_trades                        Size  Entry...\n",
      "dtype: object\n"
     ]
    },
    {
     "data": {
      "image/png": "[encoded data removed]",
      "text/plain": [
       "<Figure size 1200x600 with 1 Axes>"
      ]
     },
     "metadata": {},
     "output_type": "display_data"
    }
   ],
   "source": [
    "# Cutting out data\n",
    "df = main_df[main_df.index.year < 2024].copy()\n",
    "\n",
    "class EndOfDayReversal_v3(Strategy):\n",
    "\n",
    "    def init(self):\n",
    "        # log('=='*50+f'\\n🏁 BACKTEST STARTED\\nROD3_PERIOD={self.ROD3_SAMPLE_SIZE}, PCT={self.PCT}.\\n')\n",
    "        pass\n",
    "\n",
    "    def next(self):\n",
    "        \n",
    "        today_date = self.data.index[-1]\n",
    "        trade_time = today_date.strftime('%H:%M') == '15:00'\n",
    "        close_time = today_date.strftime('%H:%M') == '16:00'\n",
    "        \n",
    "        # If it's time to buy (i.e. we have the ROD3 for the day)\n",
    "        if trade_time:\n",
    "            \n",
    "            rod3_df = self.data.df['ROD3'].dropna().copy()\n",
    "\n",
    "            #1. Buys when the day ROD3 ranks above the 95% of the past 220 days observations.\n",
    "            if len(rod3_df) >= 220:\n",
    "                \n",
    "                rod3_values220 = rod3_df.tail(220).to_frame('ROD3')\n",
    "                rod3_values220['rank'] = rod3_values220['ROD3'].rank(pct=True)\n",
    "                today_rod3_220 = rod3_values220.loc[today_date]\n",
    "                \n",
    "                if today_rod3_220['rank'] >= 0.95:\n",
    "                    self.buy(size=1)\n",
    "                    # Don't check any further if a trade has opened\n",
    "                    return\n",
    "            \n",
    "            #2. Sell when the day ROD3 ranks below the worst 10% observations in the last 20 days.\n",
    "            if len(rod3_df) >= 20:\n",
    "                \n",
    "                rod3_values20 = rod3_df.tail(20).to_frame('ROD3')\n",
    "                rod3_values20['rank'] = rod3_values20['ROD3'].rank(pct=True)\n",
    "                today_rod3_20 = rod3_values20.loc[today_date]\n",
    "                \n",
    "                if today_rod3_20['rank'] <= 0.1:\n",
    "                    self.sell(size=1)\n",
    "\n",
    "        if self.position and close_time:\n",
    "            self.position.close()\n",
    "            \n",
    "\n",
    "bt = Backtest(df, EndOfDayReversal_v3, trade_on_close=True)\n",
    "stats = bt.run()\n",
    "\n",
    "print(stats)\n",
    "title = f\"[{df.index[0].date()} - {df.index[-1].date()}] | Combined Strategy\"\n",
    "\n",
    "stats._equity_curve['Equity'].plot(figsize=(12, 6), title=title)\n",
    "plt.show()"
   ]
  },
  {
   "cell_type": "markdown",
   "id": "e970e161",
   "metadata": {},
   "source": [
    "## Out of sample combined portfolio test"
   ]
  },
  {
   "cell_type": "code",
   "execution_count": 6,
   "id": "1cd27bed",
   "metadata": {},
   "outputs": [
    {
     "name": "stderr",
     "output_type": "stream",
     "text": [
      "Backtest.run:   0%|          | 0/26041 [00:00<?, ?bar/s]"
     ]
    },
    {
     "name": "stderr",
     "output_type": "stream",
     "text": [
      "                                                        "
     ]
    },
    {
     "name": "stdout",
     "output_type": "stream",
     "text": [
      "Start                     2017-10-18 15:30:00\n",
      "End                       2025-10-10 16:00:00\n",
      "Duration                   2914 days 00:30:00\n",
      "Exposure Time [%]                     3.43292\n",
      "Equity Final [$]                     10103.86\n",
      "Equity Peak [$]                      10106.87\n",
      "Return [%]                             1.0386\n",
      "Buy & Hold Return [%]               155.23076\n",
      "Return (Ann.) [%]                     0.12988\n",
      "Volatility (Ann.) [%]                 0.14137\n",
      "CAGR [%]                              0.08939\n",
      "Sharpe Ratio                          0.91875\n",
      "Sortino Ratio                         1.76175\n",
      "Calmar Ratio                          0.54861\n",
      "Alpha [%]                             1.04495\n",
      "Beta                                 -0.00004\n",
      "Max. Drawdown [%]                    -0.23675\n",
      "Avg. Drawdown [%]                    -0.04477\n",
      "Max. Drawdown Duration      432 days 00:00:00\n",
      "Avg. Drawdown Duration       97 days 04:57:00\n",
      "# Trades                                  298\n",
      "Win Rate [%]                          53.3557\n",
      "Best Trade [%]                        5.41203\n",
      "Worst Trade [%]                      -3.00684\n",
      "Avg. Trade [%]                        0.10291\n",
      "Max. Trade Duration           0 days 01:00:00\n",
      "Avg. Trade Duration           0 days 01:00:00\n",
      "Profit Factor                         1.73937\n",
      "Expectancy [%]                        0.10524\n",
      "SQN                                   2.52378\n",
      "Kelly Criterion                       0.20345\n",
      "_strategy                 EndOfDayReversal_v3\n",
      "_equity_curve                             ...\n",
      "_trades                        Size  Entry...\n",
      "dtype: object\n"
     ]
    },
    {
     "name": "stderr",
     "output_type": "stream",
     "text": [
      "/tmp/ipykernel_526939/2098449442.py:2: UserWarning: Some trades remain open at the end of backtest. Use `Backtest(..., finalize_trades=True)` to close them and include them in stats.\n",
      "  stats = bt.run()\n"
     ]
    },
    {
     "data": {
      "image/png": "[encoded data removed]",
      "text/plain": [
       "<Figure size 1200x600 with 1 Axes>"
      ]
     },
     "metadata": {},
     "output_type": "display_data"
    }
   ],
   "source": [
    "bt = Backtest(main_df.copy(), EndOfDayReversal_v3, trade_on_close=True)\n",
    "stats = bt.run()\n",
    "\n",
    "print(stats)\n",
    "title = f\"[{main_df.index[0].date()} - {main_df.index[-1].date()}] | Combined Strategy OOS\"\n",
    "\n",
    "\n",
    "eq_curve = stats._equity_curve['Equity'].to_frame('Equity')\n",
    "# Default starting capital of the backtest is 10k\n",
    "# eq_curve['Buy and Hold'] = 10_000 + (main_df['Close'] - main_df['Close'].iloc[0])\n",
    "eq_curve.plot(figsize=(12, 6), title=title)\n",
    "# Get the first timestamp from 2025\n",
    "first_2025 = main_df.loc[main_df.index.year == 2025].index.min()\n",
    "plt.axvline(first_2025, color='red', linestyle='--', linewidth=1)\n",
    "\n",
    "plt.show()"
   ]
  },
  {
   "attachments": {
    "image-2.png": {
     "image/png": "[encoded data removed]"
    },
    "image.png": {
     "image/png": "[encoded data removed]"
    }
   },
   "cell_type": "markdown",
   "id": "fc00f696",
   "metadata": {},
   "source": [
    "The result persist on the OOS, which is a good sign. But it's not enough to outperform a simple buy'n hold.\n",
    "\n",
    "![image-2.png](attachment:image-2.png)\n",
    "\n",
    "Maybe a position sizing strategy could help to bring better results since the sharpe ratio of the strategy is ~0.9 vs ~0.7 of SPY. \n",
    "\n",
    "Nonetheless commissions, swap and mofiing strategy close trade at least 5 minutes before the session close would possibly bring the overall Sharpe ratio really close to the underlying, or possibly worse."
   ]
  }
 ],
 "metadata": {
  "kernelspec": {
   "display_name": ".venv",
   "language": "python",
   "name": "python3"
  },
  "language_info": {
   "codemirror_mode": {
    "name": "ipython",
    "version": 3
   },
   "file_extension": ".py",
   "mimetype": "text/x-python",
   "name": "python",
   "nbconvert_exporter": "python",
   "pygments_lexer": "ipython3",
   "version": "3.13.7"
  }
 },
 "nbformat": 4,
 "nbformat_minor": 5
}
